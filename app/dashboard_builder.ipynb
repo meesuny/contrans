{
 "cells": [
  {
   "cell_type": "code",
   "execution_count": 1,
   "id": "d35f4ecd-ab98-428a-a57d-d266b0451cb1",
   "metadata": {},
   "outputs": [],
   "source": [
    "import pandas as pd\n",
    "import numpy as np\n",
    "import dash\n",
    "from jupyter_dash import JupyterDash\n",
    "from dash import dcc\n",
    "from dash import html\n",
    "from dash.dependencies import Input, Output, State\n",
    "import dash_bootstrap_components as dbc"
   ]
  },
  {
   "cell_type": "code",
   "execution_count": 2,
   "id": "3fa99705-50e0-4f98-adc2-e78212c07c90",
   "metadata": {},
   "outputs": [],
   "source": [
    "#external_stylesheets = ['https://codepen.io/chriddyp/pen/bWLwgP.css']\n",
    "external_stylesheets = [dbc.themes.MINTY]"
   ]
  },
  {
   "cell_type": "markdown",
   "id": "67f124f9-5afd-4d66-937d-8c8d440ffe7e",
   "metadata": {},
   "source": [
    "## Initialize the app"
   ]
  },
  {
   "cell_type": "code",
   "execution_count": 3,
   "id": "bbc50732-4a3d-4b65-ba84-f6585707d83b",
   "metadata": {},
   "outputs": [],
   "source": [
    "app = JupyterDash(__name__, external_stylesheets=external_stylesheets) # Jupyter version\n",
    "#app = dash.Dash(__name__, external_stylesheets=external_stylesheets) # regular version"
   ]
  },
  {
   "cell_type": "markdown",
   "id": "a0c2dbe3-b03b-495b-9148-11a75fd6db2d",
   "metadata": {},
   "source": [
    "## Specify the contents of the dashboard"
   ]
  },
  {
   "cell_type": "code",
   "execution_count": 4,
   "id": "a167aca0-155f-41cc-88a7-90c123a9b1ed",
   "metadata": {},
   "outputs": [],
   "source": [
    "app.layout = html.Div(\n",
    "[\n",
    "    html.H1(\"Clueless Dashboard\"),\n",
    "    \n",
    "    dcc.Input(id = 'username', type = 'text', placeholder = 'Please type your name here.'),\n",
    "\n",
    "    dcc.Markdown(id = 'countletters')\n",
    "]\n",
    ")"
   ]
  },
  {
   "cell_type": "markdown",
   "id": "118f09ae-e0d8-46f9-9d66-519d260fbb08",
   "metadata": {},
   "source": [
    "## Callbacks"
   ]
  },
  {
   "cell_type": "code",
   "execution_count": 10,
   "id": "601aedb0-8012-49bd-9747-5c89304b49f7",
   "metadata": {},
   "outputs": [],
   "source": [
    "@app.callback(Output(component_id = 'countletters', component_property = 'children'), \n",
    "              Input(component_id = 'username', component_property = 'value'))\n",
    "\n",
    "def countletters(name):\n",
    "    n = str(name).replace(' ', '')\n",
    "    return f\"You have {len(n)} letters in your name!\""
   ]
  },
  {
   "cell_type": "code",
   "execution_count": 11,
   "id": "e19bc84c-b423-48e8-aa7d-368a3c9b3dce",
   "metadata": {},
   "outputs": [
    {
     "data": {
      "text/plain": [
       "'You have 7 letters in your name!'"
      ]
     },
     "execution_count": 11,
     "metadata": {},
     "output_type": "execute_result"
    }
   ],
   "source": [
    "countletters('Meesun Y')"
   ]
  },
  {
   "cell_type": "markdown",
   "id": "dbbda8bf-6db1-4ce0-9acf-b7a6ec1d0d97",
   "metadata": {},
   "source": [
    "## Run the app"
   ]
  },
  {
   "cell_type": "code",
   "execution_count": 7,
   "id": "1a8f2618-85e0-48e2-a517-a22caee7c2fb",
   "metadata": {},
   "outputs": [],
   "source": [
    "#!pip install python-dotenv"
   ]
  },
  {
   "cell_type": "code",
   "execution_count": 8,
   "id": "3046bccd-48d8-483d-b21d-f3b624210df0",
   "metadata": {},
   "outputs": [
    {
     "data": {
      "text/html": [
       "\n",
       "        <iframe\n",
       "            width=\"100%\"\n",
       "            height=\"650\"\n",
       "            src=\"http://0.0.0.0:8050/\"\n",
       "            frameborder=\"0\"\n",
       "            allowfullscreen\n",
       "            \n",
       "        ></iframe>\n",
       "        "
      ],
      "text/plain": [
       "<IPython.lib.display.IFrame at 0x7f67b9c511d0>"
      ]
     },
     "metadata": {},
     "output_type": "display_data"
    }
   ],
   "source": [
    "# NEED TO FIX THIS LATER\n",
    "if __name__== \"__main__\":\n",
    "    app.run_server(mode= 'inline', host = '0.0.0.0', debug=True)"
   ]
  },
  {
   "cell_type": "code",
   "execution_count": null,
   "id": "57875fe8-9b2b-4e0c-a015-80c3ca447400",
   "metadata": {},
   "outputs": [],
   "source": []
  }
 ],
 "metadata": {
  "kernelspec": {
   "display_name": "Python 3 (ipykernel)",
   "language": "python",
   "name": "python3"
  },
  "language_info": {
   "codemirror_mode": {
    "name": "ipython",
    "version": 3
   },
   "file_extension": ".py",
   "mimetype": "text/x-python",
   "name": "python",
   "nbconvert_exporter": "python",
   "pygments_lexer": "ipython3",
   "version": "3.11.0"
  }
 },
 "nbformat": 4,
 "nbformat_minor": 5
}
